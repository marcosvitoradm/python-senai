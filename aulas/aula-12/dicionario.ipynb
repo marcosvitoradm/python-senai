{
 "cells": [
  {
   "cell_type": "markdown",
   "metadata": {},
   "source": [
    "## Dicionário\n",
    "\n",
    "É um conjunto de chaves e valores que distiguem um objeto. Estas chaves nós chamamos de KEYS e seus valores de VALUES. É um tipo especial de váriavel Python identificada pelas{}.\n"
   ]
  },
  {
   "cell_type": "code",
   "execution_count": 2,
   "metadata": {},
   "outputs": [
    {
     "name": "stdout",
     "output_type": "stream",
     "text": [
      "{'nome': 'Marcos Vitor', 'idade': 36, 'cidade': 'Fortaleza'}\n"
     ]
    }
   ],
   "source": [
    "pessoa = {\n",
    "    'nome': 'Marcos Vitor',\n",
    "    'idade': 36,\n",
    "    'cidade': 'Fortaleza'\n",
    "}\n",
    "\n",
    "print(pessoa)"
   ]
  },
  {
   "cell_type": "code",
   "execution_count": 6,
   "metadata": {},
   "outputs": [
    {
     "name": "stdout",
     "output_type": "stream",
     "text": [
      "dict_values(['Marcos Vitor', 36, 'Fortaleza'])\n"
     ]
    }
   ],
   "source": [
    "# Método KEYS()\n",
    "\n",
    "pessoa.keys()\n",
    "\n",
    "# Método VALUES ()\n",
    "\n",
    "print(pessoa.values())\n",
    "\n"
   ]
  },
  {
   "cell_type": "code",
   "execution_count": 7,
   "metadata": {},
   "outputs": [
    {
     "data": {
      "text/plain": [
       "36"
      ]
     },
     "execution_count": 7,
     "metadata": {},
     "output_type": "execute_result"
    }
   ],
   "source": [
    "pessoa['idade']"
   ]
  },
  {
   "cell_type": "code",
   "execution_count": 10,
   "metadata": {},
   "outputs": [
    {
     "name": "stdout",
     "output_type": "stream",
     "text": [
      "{'nome': 'Marcos Vitor', 'idade': 36, 'cidade': 'Brasília'}\n"
     ]
    }
   ],
   "source": [
    "# atribuindo um novo valor a uma chave especifica\n",
    "\n",
    "pessoa['cidade'] = 'Brasília'\n",
    "\n",
    "print(pessoa)\n",
    "\n"
   ]
  },
  {
   "cell_type": "code",
   "execution_count": 19,
   "metadata": {},
   "outputs": [
    {
     "name": "stdout",
     "output_type": "stream",
     "text": [
      "{'nome': 'Marcos Vitor', 'idade': 36, 'cidade': 'Brasília', 'email': 'madndekn@teste.com'}\n"
     ]
    }
   ],
   "source": [
    "pessoa['email'] = 'madndekn@teste.com'  \n",
    "        \n",
    "print(pessoa)"
   ]
  },
  {
   "cell_type": "code",
   "execution_count": 20,
   "metadata": {},
   "outputs": [],
   "source": [
    "del pessoa['idade'] \n",
    "\n",
    "pessoa.pop()\n",
    "\n",
    "\n",
    "\n",
    "\n",
    "\n"
   ]
  },
  {
   "cell_type": "code",
   "execution_count": null,
   "metadata": {},
   "outputs": [],
   "source": [
    "def calcula_fatorial2(numero):\n",
    "    if numero == 0 or numero ==1:\n",
    "        return 1\n",
    "    else:\n",
    "        return numero * calcula_fatorial2(numero-1)\n",
    "        "
   ]
  },
  {
   "cell_type": "code",
   "execution_count": 33,
   "metadata": {},
   "outputs": [
    {
     "name": "stdout",
     "output_type": "stream",
     "text": [
      "[{'nome': 'Daniel', 'cidade': 'Águas Claras'}, {'nome': 'Marcos', 'cidade': 'Ceilândia'}]\n"
     ]
    }
   ],
   "source": [
    "alunos = [\n",
    "    {'nome': 'Daniel','cidade':'Águas Claras'},\n",
    "    {'nome': 'Marcos','cidade':'Ceilândia'}\n",
    "]\n",
    "\n",
    "print(alunos)\n"
   ]
  },
  {
   "cell_type": "code",
   "execution_count": 32,
   "metadata": {},
   "outputs": [
    {
     "name": "stdout",
     "output_type": "stream",
     "text": [
      "0 {'nome': 'Daniel'}\n",
      "1 {'nome': 'Marcos'}\n"
     ]
    }
   ],
   "source": [
    "# Percorre lista e printando cada dicionário\n",
    "for indice, aluno in enumerate(alunos):\n",
    "    print(indice, aluno)\n"
   ]
  },
  {
   "cell_type": "code",
   "execution_count": 35,
   "metadata": {},
   "outputs": [
    {
     "name": "stdout",
     "output_type": "stream",
     "text": [
      "{'nome': 'Marcos', 'cidade': 'Ceilândia'}\n",
      "Águas Claras\n"
     ]
    }
   ],
   "source": [
    "print(alunos[1])\n",
    "\n",
    "print(alunos[0]['cidade'])"
   ]
  },
  {
   "cell_type": "code",
   "execution_count": 37,
   "metadata": {},
   "outputs": [
    {
     "name": "stdout",
     "output_type": "stream",
     "text": [
      "{'Daniel': {'matricula': '1234', 'escolaridade': 'superior'}, 'Carlos': {'matricula': '3545', 'escolaridade': 'mestrado'}}\n"
     ]
    }
   ],
   "source": [
    "alunos_dicionarios = {'Daniel':{'matricula':'1234', 'escolaridade':'superior',},'Carlos': {'matricula':'3545','escolaridade':'mestrado'},}\n",
    "\n",
    "print(alunos_dicionarios)"
   ]
  }
 ],
 "metadata": {
  "interpreter": {
   "hash": "023695796a0456db28915f727eb64cb942055160ea749933aa044f2070f70f3a"
  },
  "kernelspec": {
   "display_name": "Python 3.12.5 64-bit (windows store)",
   "language": "python",
   "name": "python3"
  },
  "language_info": {
   "codemirror_mode": {
    "name": "ipython",
    "version": 3
   },
   "file_extension": ".py",
   "mimetype": "text/x-python",
   "name": "python",
   "nbconvert_exporter": "python",
   "pygments_lexer": "ipython3",
   "version": "3.12.5"
  },
  "orig_nbformat": 4
 },
 "nbformat": 4,
 "nbformat_minor": 2
}
