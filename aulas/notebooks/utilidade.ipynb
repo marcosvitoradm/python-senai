{
 "cells": [
  {
   "cell_type": "markdown",
   "metadata": {},
   "source": [
    "any (Qualquer. qualquer coisa)"
   ]
  },
  {
   "cell_type": "code",
   "execution_count": 4,
   "metadata": {},
   "outputs": [],
   "source": [
    "resposta = any([False, True, False, False])"
   ]
  },
  {
   "cell_type": "code",
   "execution_count": 5,
   "metadata": {},
   "outputs": [
    {
     "data": {
      "text/plain": [
       "False"
      ]
     },
     "metadata": {},
     "output_type": "display_data"
    }
   ],
   "source": [
    "nomes = ['','','','',]\n",
    "\n",
    "resposta = any(nomes)\n",
    "display(resposta)\n"
   ]
  },
  {
   "cell_type": "code",
   "execution_count": 15,
   "metadata": {},
   "outputs": [
    {
     "data": {
      "text/plain": [
       "False"
      ]
     },
     "metadata": {},
     "output_type": "display_data"
    }
   ],
   "source": [
    "numeros = [2, 10, 11, 24]\n",
    "\n",
    "resultado = any(num % 2 != 0 for num in numeros)\n",
    "\n",
    "display(resposta)                "
   ]
  },
  {
   "cell_type": "code",
   "execution_count": null,
   "metadata": {},
   "outputs": [],
   "source": [
    "tabuleiro = [0,0,0,\n",
    "combinacoes_vitoria = [\n",
    "    (0,1,2),(3,4,5),(6,7,8), #linhas\n",
    "    (0,3,6),(1,4,7),(2,5,8), #colunas\n",
    "    (0,4,8),(2,4,6)          #diagonais\n",
    "]\n",
    "\n",
    "for a, b, c in combinacoes_vitoria:\n",
    "    if tabuleiro[a] == tabuleiro[b] == tabuleiro[c]:\n",
    "        venceu = True\n",
    "    else:\n",
    "        venceu = False\n",
    "    \n",
    "        \n",
    "        \n",
    "\n",
    "    "
   ]
  }
 ],
 "metadata": {
  "interpreter": {
   "hash": "7a20972ef30e22f8c4633df03404e8bd09e75a2c6771f0d60eb14813db129555"
  },
  "kernelspec": {
   "display_name": "Python 3 (ipykernel)",
   "language": "python",
   "name": "python3"
  },
  "language_info": {
   "codemirror_mode": {
    "name": "ipython",
    "version": 3
   },
   "file_extension": ".py",
   "mimetype": "text/x-python",
   "name": "python",
   "nbconvert_exporter": "python",
   "pygments_lexer": "ipython3",
   "version": "3.12.5"
  }
 },
 "nbformat": 4,
 "nbformat_minor": 4
}
