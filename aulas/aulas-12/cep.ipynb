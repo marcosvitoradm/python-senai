{
 "cells": [
  {
   "cell_type": "code",
   "execution_count": 24,
   "metadata": {},
   "outputs": [
    {
     "name": "stdout",
     "output_type": "stream",
     "text": [
      "{'cep': '72210-585', 'logradouro': 'Quadra EQNM 24/26 Bloco E', 'complemento': '(Comércio)', 'unidade': '', 'bairro': 'Ceilândia Norte (Ceilândia)', 'localidade': 'Brasília', 'uf': 'DF', 'ibge': '5300108', 'gia': '', 'ddd': '61', 'siafi': '9701'}\n"
     ]
    }
   ],
   "source": [
    "import requests\n",
    "\n",
    "cep = 72210585\n",
    "\n",
    "link = f'https://viacep.com.br/ws/{cep}/json/'\n",
    "\n",
    "resposta = requests.get(link)\n",
    "\n",
    "endereco = resposta.json()\n",
    "\n",
    "print(endereco)"
   ]
  },
  {
   "cell_type": "code",
   "execution_count": 37,
   "metadata": {},
   "outputs": [
    {
     "data": {
      "text/plain": [
       "'Insert Line Below'"
      ]
     },
     "execution_count": 37,
     "metadata": {},
     "output_type": "execute_result"
    }
   ],
   "source": [
    "\"Insert Line Below\""
   ]
  },
  {
   "cell_type": "code",
   "execution_count": null,
   "metadata": {},
   "outputs": [],
   "source": []
  },
  {
   "cell_type": "code",
   "execution_count": null,
   "metadata": {},
   "outputs": [],
   "source": []
  },
  {
   "cell_type": "code",
   "execution_count": null,
   "metadata": {},
   "outputs": [],
   "source": [
    "\n"
   ]
  }
 ],
 "metadata": {
  "interpreter": {
   "hash": "023695796a0456db28915f727eb64cb942055160ea749933aa044f2070f70f3a"
  },
  "kernelspec": {
   "display_name": "Python 3.12.5 64-bit (windows store)",
   "language": "python",
   "name": "python3"
  },
  "language_info": {
   "codemirror_mode": {
    "name": "ipython",
    "version": 3
   },
   "file_extension": ".py",
   "mimetype": "text/x-python",
   "name": "python",
   "nbconvert_exporter": "python",
   "pygments_lexer": "ipython3",
   "version": "3.12.5"
  },
  "orig_nbformat": 4
 },
 "nbformat": 4,
 "nbformat_minor": 2
}
