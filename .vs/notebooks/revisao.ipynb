{
 "cells": [
  {
   "cell_type": "markdown",
   "metadata": {},
   "source": [
    "# Relembrando variáveis\n",
    "\n",
    "tipo\n",
    "\n",
    "    - int()\n",
    "    - str()\n",
    "    - float()\n",
    "    - bool()\n",
    "    - list()\n",
    "    - tuple()\n",
    "    - dict()"
   ]
  },
  {
   "cell_type": "code",
   "execution_count": 4,
   "metadata": {},
   "outputs": [],
   "source": [
    "numero = 1\n",
    "nome = 'Marcos Vitor'\n",
    "numero_decimal = 10.9\n",
    "sera = True\n",
    "frutas = ['pêra','morango','uva']\n",
    "carros = ('gol', 'uno', 'fusca')\n",
    "pessoas = {'nome': 'Marcos','idade':'36','altura':'1.72'}"
   ]
  },
  {
   "cell_type": "markdown",
   "metadata": {},
   "source": [
    "if\n",
    "match case"
   ]
  },
  {
   "cell_type": "code",
   "execution_count": 7,
   "metadata": {},
   "outputs": [
    {
     "name": "stdout",
     "output_type": "stream",
     "text": [
      "Digite aqui o seu nome: \n",
      "\n",
      "O nome está errado.\n"
     ]
    }
   ],
   "source": [
    "nome = print('Digite aqui o seu nome: \\n')\n",
    "\n",
    "if nome == 'Marcos':\n",
    "    print('O nome está correto')\n",
    "else:\n",
    "    print('O nome está errado.')"
   ]
  },
  {
   "cell_type": "code",
   "execution_count": 5,
   "metadata": {},
   "outputs": [
    {
     "name": "stdout",
     "output_type": "stream",
     "text": [
      "opçãp 4\n"
     ]
    }
   ],
   "source": [
    "match numero:\n",
    "    case 1:\n",
    "        print('opçãp 1')\n",
    "    case 2:\n",
    "        print('opçãp 2')\n",
    "    case 3:\n",
    "        print('opçãp 3')\n",
    "    case 4:\n",
    "        print('opçãp 4')\n",
    "    case 5:\n",
    "        print('opçãp 5')"
   ]
  },
  {
   "cell_type": "markdown",
   "metadata": {},
   "source": [
    "- for\n",
    "- while"
   ]
  },
  {
   "cell_type": "code",
   "execution_count": 4,
   "metadata": {},
   "outputs": [
    {
     "name": "stdout",
     "output_type": "stream",
     "text": [
      "O número é: 0\n",
      "O número é: 1\n",
      "O número é: 2\n",
      "O número é: 3\n",
      "O número é: 4\n"
     ]
    }
   ],
   "source": [
    "for numero in range(5):\n",
    "    print(f'O número é: {numero}')"
   ]
  },
  {
   "cell_type": "code",
   "execution_count": 1,
   "metadata": {},
   "outputs": [
    {
     "name": "stdout",
     "output_type": "stream",
     "text": [
      "O contador é: 0\n",
      "O contador é: 1\n",
      "O contador é: 2\n",
      "O contador é: 3\n",
      "O contador é: 4\n",
      "O contador é: 5\n"
     ]
    }
   ],
   "source": [
    "contador = 0\n",
    "while contador <=5:\n",
    "    print(f'O contador é: {contador}')\n",
    "    contador +=1"
   ]
  },
  {
   "cell_type": "code",
   "execution_count": null,
   "metadata": {},
   "outputs": [],
   "source": [
    "aluno = 'Marcos Vitor'\n",
    "alunos = ['Marcos Vitor', 'Caio','Carol','Renato']\n",
    "print(aluno.lower()) #deixa minusculo\n",
    "print(aluno.capitalize()) #deixa a primeira letra maiúscula\n",
    "print(aluno.upper()) #deixa tudo maiúsculo\n",
    "print(aluno.strip())#remove espaços\n",
    "print(aluno.replace())('Vitor','Loiola') #substitui uma sequência de caractéres por outra\n",
    "print(aluno)"
   ]
  },
  {
   "cell_type": "markdown",
   "metadata": {},
   "source": [
    "# Métodos de lista\n",
    "\n",
    "- append\n",
    "- extend\n",
    "- insert\n",
    "- remove\n",
    "- pop\n",
    "- index\n",
    "- del\n",
    "- sort\n",
    "- reverse\n"
   ]
  },
  {
   "cell_type": "code",
   "execution_count": 3,
   "metadata": {},
   "outputs": [
    {
     "name": "stdout",
     "output_type": "stream",
     "text": [
      "['notebook', 'smartphone', 'smart tv', 'fliperama']\n",
      "['notebook', 'smartphone', 'smart tv', 'fliperama', 'sofa', 'mesa', 'puff']\n",
      "['notebook', 'smartphone', 'smart tv', 'playstation 5', 'fliperama', 'sofa', 'mesa', 'puff']\n",
      "['notebook', 'smartphone', 'smart tv', 'playstation 5', 'fliperama', 'sofa', 'mesa', 'puff']\n",
      "['notebook', 'smart tv', 'playstation 5', 'fliperama', 'sofa', 'mesa', 'puff']\n",
      "['notebook', 'playstation 5', 'fliperama', 'sofa', 'mesa', 'puff']\n",
      "['notebook', 'playstation 5', 'fliperama', 'sofa', 'mesa', 'puff']\n",
      "['fliperama', 'mesa', 'notebook', 'playstation 5', 'puff', 'sofa']\n",
      "['sofa', 'puff', 'playstation 5', 'notebook', 'mesa', 'fliperama']\n"
     ]
    }
   ],
   "source": [
    "produtos = ['notebook','smartphone','smart tv']\n",
    "\n",
    "produtos.append('fliperama') #adiciona um elemento ao final da lista\n",
    "print(produtos)\n",
    "produtos.extend(['sofa','mesa','puff']) #incrementa a lista com outra lista\n",
    "print(produtos)\n",
    "produtos.insert(3,'playstation 5') #aciona um novo elemento em uma posiçã especifica\n",
    "print(produtos)\n",
    "produtos.pop #remove o ultimo elemeento da lista\n",
    "print(produtos)\n",
    "produtos.pop(1) #remove o último elemento da lista\n",
    "print(produtos)\n",
    "produtos.remove('smart tv') #remove um elemento especifico da lista\n",
    "print(produtos)\n",
    "produtos.index('notebook') #retorna o índice da primeira ocorrência encontrada\n",
    "print(produtos)\n",
    "produtos.sort() # organiza e ordem crescente a lista\n",
    "print(produtos)\n",
    "produtos.reverse() # inverte a lista de trás para frente\n",
    "print(produtos)"
   ]
  },
  {
   "cell_type": "markdown",
   "metadata": {},
   "source": [
    "# São objetos capazes de armazenar um bloco de código e depois podem ser reaproveitados em outro momento do código, somente chamando pelo nome.\n",
    "\n",
    "Tipo:\n",
    "\n",
    "- função sem retorno\n",
    "- função com retorno\n",
    "- função com parâmetros\n",
    "- função sem parãmentros\n",
    "- função lambda\n",
    "- função com multiplos parâmentros\n",
    "    - parâametros posicionais\n",
    "    - parâmetros nomeados\n",
    "\n",
    "\n"
   ]
  },
  {
   "cell_type": "code",
   "execution_count": 9,
   "metadata": {},
   "outputs": [],
   "source": [
    "def saudacao():\n",
    "    print('Hello Word!')\n",
    "    "
   ]
  },
  {
   "cell_type": "code",
   "execution_count": 10,
   "metadata": {},
   "outputs": [
    {
     "name": "stdout",
     "output_type": "stream",
     "text": [
      "Hello Word!\n"
     ]
    }
   ],
   "source": [
    "saudacao()"
   ]
  },
  {
   "cell_type": "code",
   "execution_count": 14,
   "metadata": {},
   "outputs": [],
   "source": [
    "# função com retorno\n",
    "\n",
    "def somar():\n",
    "    soma = 10+25\n",
    "    return soma\n"
   ]
  },
  {
   "cell_type": "code",
   "execution_count": 22,
   "metadata": {},
   "outputs": [
    {
     "name": "stdout",
     "output_type": "stream",
     "text": [
      "35\n"
     ]
    }
   ],
   "source": [
    "print(somar())"
   ]
  },
  {
   "cell_type": "code",
   "execution_count": 25,
   "metadata": {},
   "outputs": [],
   "source": [
    "# Função com parâmetros\n",
    "\n",
    "def somar2(numero1, numero2):\n",
    "    soma = numero1 + numero2\n",
    "    return soma"
   ]
  },
  {
   "cell_type": "code",
   "execution_count": 26,
   "metadata": {},
   "outputs": [
    {
     "data": {
      "text/plain": [
       "13"
      ]
     },
     "execution_count": 26,
     "metadata": {},
     "output_type": "execute_result"
    }
   ],
   "source": [
    "somar2(5, 8)\n"
   ]
  },
  {
   "cell_type": "code",
   "execution_count": 27,
   "metadata": {},
   "outputs": [],
   "source": [
    "# Função lambda\n",
    "\n",
    "soma_lambda = lambda numero1, numero2 : numero1 + numero2\n"
   ]
  },
  {
   "cell_type": "code",
   "execution_count": 28,
   "metadata": {},
   "outputs": [
    {
     "data": {
      "text/plain": [
       "23"
      ]
     },
     "execution_count": 28,
     "metadata": {},
     "output_type": "execute_result"
    }
   ],
   "source": [
    "soma_lambda(8, 15)"
   ]
  },
  {
   "cell_type": "code",
   "execution_count": 31,
   "metadata": {},
   "outputs": [],
   "source": [
    "# Função com multiplos parâmetros (argumentos) posicionais\n",
    "\n",
    "def somar3(*numero):\n",
    "    resultado = sum(numero)\n",
    "    return resultado"
   ]
  },
  {
   "cell_type": "code",
   "execution_count": 32,
   "metadata": {},
   "outputs": [
    {
     "data": {
      "text/plain": [
       "30827"
      ]
     },
     "execution_count": 32,
     "metadata": {},
     "output_type": "execute_result"
    }
   ],
   "source": [
    "somar3(4,15,7882,6331,6611,9984)"
   ]
  },
  {
   "cell_type": "code",
   "execution_count": 35,
   "metadata": {},
   "outputs": [],
   "source": [
    "# função multiplos parâmetros nomeados\n",
    "\n",
    "def gerar_produtos(**parametros):\n",
    "    produto = parametros\n",
    "    return produto\n",
    "    \n",
    "    \n",
    "    \n",
    "\n"
   ]
  },
  {
   "cell_type": "code",
   "execution_count": 42,
   "metadata": {},
   "outputs": [
    {
     "data": {
      "text/plain": [
       "{'nome': 'notebook', 'preco': 3000.0, 'fabricante': 'Samsung'}"
      ]
     },
     "execution_count": 42,
     "metadata": {},
     "output_type": "execute_result"
    }
   ],
   "source": [
    "gerar_produtos(nome = 'notebook', preco = 3000.00, fabricante = 'Samsung')"
   ]
  },
  {
   "cell_type": "code",
   "execution_count": 61,
   "metadata": {},
   "outputs": [],
   "source": [
    "# Função fatorial simples\n",
    "\n",
    "def calcula_fatorial(numero):\n",
    "    resultado = 1\n",
    "    for i in range(1, numero + 1):\n",
    "        resultado *= i\n",
    "    return resultado"
   ]
  },
  {
   "cell_type": "code",
   "execution_count": 63,
   "metadata": {},
   "outputs": [
    {
     "data": {
      "text/plain": [
       "120"
      ]
     },
     "execution_count": 63,
     "metadata": {},
     "output_type": "execute_result"
    }
   ],
   "source": [
    "calcula_fatorial(5)\n"
   ]
  },
  {
   "cell_type": "code",
   "execution_count": 66,
   "metadata": {},
   "outputs": [],
   "source": [
    "def calcula_fatorial_2(numero):\n",
    "    if numero == 0 or numero ==1:\n",
    "        return 1\n",
    "    else:\n",
    "        return numero * calcula_fatorial_2(numero-1)"
   ]
  },
  {
   "cell_type": "code",
   "execution_count": 68,
   "metadata": {},
   "outputs": [
    {
     "name": "stdout",
     "output_type": "stream",
     "text": [
      "120\n"
     ]
    }
   ],
   "source": [
    "print(calcula_fatorial_2(5))"
   ]
  }
 ],
 "metadata": {
  "interpreter": {
   "hash": "d1e9abc10c94c7f6123d9d95826e95a0b50ae338d09e6669c2548fabf3e8b054"
  },
  "kernelspec": {
   "display_name": "Python 3.12.5 64-bit",
   "language": "python",
   "name": "python3"
  },
  "language_info": {
   "codemirror_mode": {
    "name": "ipython",
    "version": 3
   },
   "file_extension": ".py",
   "mimetype": "text/x-python",
   "name": "python",
   "nbconvert_exporter": "python",
   "pygments_lexer": "ipython3",
   "version": "3.12.5"
  },
  "orig_nbformat": 4
 },
 "nbformat": 4,
 "nbformat_minor": 2
}
